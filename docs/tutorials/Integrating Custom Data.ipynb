{
 "cells": [
  {
   "cell_type": "markdown",
   "id": "5e6e5d16",
   "metadata": {},
   "source": [
    "# Integrating Custom Data\n",
    "\n",
    "By combining your custom data with the feed data (order book and trades), you can enhance your strategy while harnessing the full potential of hftbacktest."
   ]
  },
  {
   "cell_type": "markdown",
   "id": "e962b0d2",
   "metadata": {},
   "source": [
    "## Quick Example for Accessing Funding Rate\n",
    "\n",
    "First, let's demonstrate how to access your custom data. If you're using data that has been converted from raw feed by the built-in utility, you can effortlessly incorporate `markPrice` stream data. Find out more details [here](https://hftbacktest.readthedocs.io/en/latest/reference/hftbacktest.data.utils.binancefutures.html)."
   ]
  },
  {
   "cell_type": "code",
   "execution_count": 1,
   "id": "d1e04ecc",
   "metadata": {},
   "outputs": [
    {
     "name": "stdout",
     "output_type": "stream",
     "text": [
      "local_timestamp is ahead of exch_timestamp by 26932.0\n",
      "found 6555 rows that exch_timestamp is ahead of the previous exch_timestamp\n",
      "Correction is done.\n"
     ]
    }
   ],
   "source": [
    "import numpy as np\n",
    "\n",
    "from hftbacktest.data.utils import binancefutures\n",
    "\n",
    "data = binancefutures.convert('usdm/btcusdt_20230405.dat.gz', opt='m')\n",
    "np.savez('btcusdt_20230405_m', data=data)"
   ]
  },
  {
   "cell_type": "markdown",
   "id": "d998ceb3",
   "metadata": {},
   "source": [
    "You can obtain the funding rate by using `get_user_data` function along with event id 102."
   ]
  },
  {
   "cell_type": "code",
   "execution_count": 2,
   "id": "c47802b1",
   "metadata": {},
   "outputs": [
    {
     "name": "stdout",
     "output_type": "stream",
     "text": [
      "Load btcusdt_20230405_m.npz\n",
      "current_timestamp: 1680652860032116 futures_mid: 28150.75 funding_rate: 2.76e-05\n",
      "current_timestamp: 1680652920032116 futures_mid: 28144.15 funding_rate: 2.813e-05\n",
      "current_timestamp: 1680652980032116 futures_mid: 28149.95 funding_rate: 2.826e-05\n",
      "current_timestamp: 1680653040032116 futures_mid: 28145.75 funding_rate: 2.826e-05\n",
      "current_timestamp: 1680653100032116 futures_mid: 28140.55 funding_rate: 2.841e-05\n",
      "current_timestamp: 1680653160032116 futures_mid: 28143.85 funding_rate: 2.85e-05\n"
     ]
    }
   ],
   "source": [
    "from numba import njit\n",
    "from hftbacktest import HftBacktest, FeedLatency, Linear, COL_PRICE\n",
    "\n",
    "@njit\n",
    "def print_funding_rate(hbt):\n",
    "    # Checks every 60-sec (in microseconds)\n",
    "    while hbt.elapse(60_000_000):\n",
    "        # funding_rate data is stored with event id 102.\n",
    "        funding_rate = hbt.get_user_data(102)\n",
    "        mid_price = (hbt.best_bid + hbt.best_ask) / 2.0\n",
    "        \n",
    "        print(\n",
    "            'current_timestamp:',\n",
    "            hbt.current_timestamp,\n",
    "            'futures_mid:',\n",
    "            round(mid_price, 2),\n",
    "            'funding_rate:',\n",
    "            funding_rate[COL_PRICE]\n",
    "        )\n",
    "        \n",
    "hbt = HftBacktest(\n",
    "    [\n",
    "        'btcusdt_20230405_m.npz'\n",
    "    ],\n",
    "    tick_size=0.1,\n",
    "    lot_size=0.001,\n",
    "    maker_fee=0.0002,\n",
    "    taker_fee=0.0007,\n",
    "    order_latency=FeedLatency(),\n",
    "    asset_type=Linear,\n",
    "    snapshot='btcusdt_20230404_eod.npz'\n",
    ")\n",
    "\n",
    "print_funding_rate(hbt)"
   ]
  },
  {
   "cell_type": "markdown",
   "id": "9df58ffa",
   "metadata": {},
   "source": [
    "## Combining Spot Price\n",
    "\n",
    "We've shown you how to access user data within the data processed by the built-in data utility. Now, let's explore how to merge your custom data with the feed data.\n",
    "\n",
    "In this example, we'll combine the spot BTCUSDT mid-price with the USDM-Futures BTCUSDT feed data. This will enable you to estimate the fair value price, taking the underlying price into consideration."
   ]
  },
  {
   "cell_type": "code",
   "execution_count": 3,
   "id": "b5b2a572",
   "metadata": {},
   "outputs": [],
   "source": [
    "import gzip\n",
    "import json\n",
    "\n",
    "tmp = np.full((100_000, 6), np.nan, np.float64)\n",
    "i = 0\n",
    "\n",
    "with gzip.open('spot/btcusdt_20230405.dat.gz', 'r') as f:\n",
    "    while True:\n",
    "        line = f.readline()\n",
    "        if line is None or line == b'':\n",
    "            break\n",
    "\n",
    "        line = line.decode().strip()\n",
    "        local_timestamp = int(line[:16])\n",
    "\n",
    "        obj = json.loads(line[17:])\n",
    "        if obj['stream'] == 'btcusdt@bookTicker':\n",
    "            data = obj['data']\n",
    "            mid = (float(data['b']) + float(data['a'])) / 2.0\n",
    "            # Sets the event ID to 110 and assign an invalid exchange timestamp, \n",
    "            # as it's not utilized in the exchange simulation. \n",
    "            # And stores the mid-price in the price column.\n",
    "            tmp[i] = [110, -1, local_timestamp, 0, mid, 0]\n",
    "            i += 1\n",
    "            \n",
    "tmp = tmp[:i]"
   ]
  },
  {
   "cell_type": "markdown",
   "id": "5fbe5a24",
   "metadata": {},
   "source": [
    "You can merge the two data sets using `merge_on_local_timestamp` and then proceed to validate the data."
   ]
  },
  {
   "cell_type": "code",
   "execution_count": 4,
   "id": "40d29654",
   "metadata": {},
   "outputs": [
    {
     "data": {
      "text/plain": [
       "0"
      ]
     },
     "execution_count": 4,
     "metadata": {},
     "output_type": "execute_result"
    }
   ],
   "source": [
    "from hftbacktest import merge_on_local_timestamp, validate_data\n",
    "\n",
    "usdm_feed_data = np.load('btcusdt_20230405_m.npz')['data']\n",
    "\n",
    "merged = merge_on_local_timestamp(usdm_feed_data, tmp)\n",
    "\n",
    "validate_data(merged)"
   ]
  },
  {
   "cell_type": "markdown",
   "id": "4577721c",
   "metadata": {},
   "source": [
    "You can obtain the spot mid-price by using `get_user_data` function along with event id 110."
   ]
  },
  {
   "cell_type": "code",
   "execution_count": 5,
   "id": "bd2a836e",
   "metadata": {},
   "outputs": [
    {
     "name": "stdout",
     "output_type": "stream",
     "text": [
      "current_timestamp: 1680652860004231 futures_mid: 28150.75 funding_rate: 2.76e-05 , spot_mid: 28164.42 , basis: -13.67\n",
      "current_timestamp: 1680652920004231 futures_mid: 28144.15 funding_rate: 2.813e-05 , spot_mid: 28155.82 , basis: -11.67\n",
      "current_timestamp: 1680652980004231 futures_mid: 28149.95 funding_rate: 2.826e-05 , spot_mid: 28163.48 , basis: -13.53\n",
      "current_timestamp: 1680653040004231 futures_mid: 28145.75 funding_rate: 2.826e-05 , spot_mid: 28158.88 , basis: -13.12\n",
      "current_timestamp: 1680653100004231 futures_mid: 28140.55 funding_rate: 2.841e-05 , spot_mid: 28156.06 , basis: -15.51\n",
      "current_timestamp: 1680653160004231 futures_mid: 28143.85 funding_rate: 2.85e-05 , spot_mid: 28155.82 , basis: -11.97\n"
     ]
    }
   ],
   "source": [
    "from numba import njit\n",
    "from hftbacktest import COL_PRICE\n",
    "\n",
    "@njit\n",
    "def print_basis(hbt):\n",
    "    # Checks every 60-sec (in microseconds)\n",
    "    while hbt.elapse(60_000_000):\n",
    "        funding_rate = hbt.get_user_data(102)\n",
    "        spot_mid_price = hbt.get_user_data(110)\n",
    "        mid_price = (hbt.best_bid + hbt.best_ask) / 2.0\n",
    "        basis = mid_price - spot_mid_price[COL_PRICE]\n",
    "        \n",
    "        print(\n",
    "            'current_timestamp:',\n",
    "            hbt.current_timestamp,\n",
    "            'futures_mid:',\n",
    "            round(mid_price, 2),\n",
    "            'funding_rate:',\n",
    "            funding_rate[COL_PRICE],\n",
    "            ', spot_mid:',\n",
    "            round(spot_mid_price[COL_PRICE], 2),\n",
    "            ', basis:',\n",
    "            round(basis, 2)\n",
    "        )\n",
    "        \n",
    "from hftbacktest import reset\n",
    "\n",
    "reset(\n",
    "    hbt,\n",
    "    [\n",
    "        merged\n",
    "    ],\n",
    "    snapshot='btcusdt_20230404_eod.npz'\n",
    ")\n",
    "\n",
    "print_basis(hbt)"
   ]
  }
 ],
 "metadata": {
  "kernelspec": {
   "display_name": "Python 3 (ipykernel)",
   "language": "python",
   "name": "python3"
  },
  "language_info": {
   "codemirror_mode": {
    "name": "ipython",
    "version": 3
   },
   "file_extension": ".py",
   "mimetype": "text/x-python",
   "name": "python",
   "nbconvert_exporter": "python",
   "pygments_lexer": "ipython3",
   "version": "3.10.9"
  }
 },
 "nbformat": 4,
 "nbformat_minor": 5
}
